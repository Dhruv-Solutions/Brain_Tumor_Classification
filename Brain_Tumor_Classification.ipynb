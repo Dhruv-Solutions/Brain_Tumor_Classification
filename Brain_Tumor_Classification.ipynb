{
  "cells": [
    {
      "cell_type": "markdown",
      "metadata": {
        "id": "view-in-github",
        "colab_type": "text"
      },
      "source": [
        "<a href=\"https://colab.research.google.com/github/Dhruv-Solutions/Brain_Tumor_Classification/blob/main/Brain_Tumor_Classification.ipynb\" target=\"_parent\"><img src=\"https://colab.research.google.com/assets/colab-badge.svg\" alt=\"Open In Colab\"/></a>"
      ]
    },
    {
      "cell_type": "code",
      "source": [
        "# Linux distro and kernel\n",
        "!cat /etc/issue && uname -a\n",
        "\n",
        "# CPU info\n",
        "!lscpu\n",
        "\n",
        "# Memory\n",
        "!free -h\n",
        "\n",
        "# (If GPU enabled)\n",
        "!nvidia-smi\n"
      ],
      "metadata": {
        "colab": {
          "base_uri": "https://localhost:8080/"
        },
        "id": "20Dpbwc6QLjd",
        "outputId": "b2c3dba6-25d2-4a71-b23c-5b92afe3394d"
      },
      "id": "20Dpbwc6QLjd",
      "execution_count": 1,
      "outputs": [
        {
          "output_type": "stream",
          "name": "stdout",
          "text": [
            "Ubuntu 22.04.4 LTS \\n \\l\n",
            "\n",
            "Linux fcfe3aff0523 6.1.123+ #1 SMP PREEMPT_DYNAMIC Sun Mar 30 16:01:29 UTC 2025 x86_64 x86_64 x86_64 GNU/Linux\n",
            "Architecture:             x86_64\n",
            "  CPU op-mode(s):         32-bit, 64-bit\n",
            "  Address sizes:          46 bits physical, 48 bits virtual\n",
            "  Byte Order:             Little Endian\n",
            "CPU(s):                   2\n",
            "  On-line CPU(s) list:    0,1\n",
            "Vendor ID:                GenuineIntel\n",
            "  Model name:             Intel(R) Xeon(R) CPU @ 2.00GHz\n",
            "    CPU family:           6\n",
            "    Model:                85\n",
            "    Thread(s) per core:   2\n",
            "    Core(s) per socket:   1\n",
            "    Socket(s):            1\n",
            "    Stepping:             3\n",
            "    BogoMIPS:             4000.33\n",
            "    Flags:                fpu vme de pse tsc msr pae mce cx8 apic sep mtrr pge m\n",
            "                          ca cmov pat pse36 clflush mmx fxsr sse sse2 ss ht sysc\n",
            "                          all nx pdpe1gb rdtscp lm constant_tsc rep_good nopl xt\n",
            "                          opology nonstop_tsc cpuid tsc_known_freq pni pclmulqdq\n",
            "                           ssse3 fma cx16 pcid sse4_1 sse4_2 x2apic movbe popcnt\n",
            "                           aes xsave avx f16c rdrand hypervisor lahf_lm abm 3dno\n",
            "                          wprefetch invpcid_single ssbd ibrs ibpb stibp fsgsbase\n",
            "                           tsc_adjust bmi1 hle avx2 smep bmi2 erms invpcid rtm m\n",
            "                          px avx512f avx512dq rdseed adx smap clflushopt clwb av\n",
            "                          x512cd avx512bw avx512vl xsaveopt xsavec xgetbv1 xsave\n",
            "                          s arat md_clear arch_capabilities\n",
            "Virtualization features:  \n",
            "  Hypervisor vendor:      KVM\n",
            "  Virtualization type:    full\n",
            "Caches (sum of all):      \n",
            "  L1d:                    32 KiB (1 instance)\n",
            "  L1i:                    32 KiB (1 instance)\n",
            "  L2:                     1 MiB (1 instance)\n",
            "  L3:                     38.5 MiB (1 instance)\n",
            "NUMA:                     \n",
            "  NUMA node(s):           1\n",
            "  NUMA node0 CPU(s):      0,1\n",
            "Vulnerabilities:          \n",
            "  Gather data sampling:   Not affected\n",
            "  Itlb multihit:          Not affected\n",
            "  L1tf:                   Mitigation; PTE Inversion\n",
            "  Mds:                    Vulnerable; SMT Host state unknown\n",
            "  Meltdown:               Vulnerable\n",
            "  Mmio stale data:        Vulnerable\n",
            "  Reg file data sampling: Not affected\n",
            "  Retbleed:               Vulnerable\n",
            "  Spec rstack overflow:   Not affected\n",
            "  Spec store bypass:      Vulnerable\n",
            "  Spectre v1:             Vulnerable: __user pointer sanitization and usercopy b\n",
            "                          arriers only; no swapgs barriers\n",
            "  Spectre v2:             Vulnerable; IBPB: disabled; STIBP: disabled; PBRSB-eIB\n",
            "                          RS: Not affected; BHI: Vulnerable\n",
            "  Srbds:                  Not affected\n",
            "  Tsx async abort:        Vulnerable\n",
            "               total        used        free      shared  buff/cache   available\n",
            "Mem:            12Gi       659Mi       9.1Gi       1.0Mi       2.9Gi        11Gi\n",
            "Swap:             0B          0B          0B\n",
            "Thu Jul 24 18:13:20 2025       \n",
            "+-----------------------------------------------------------------------------------------+\n",
            "| NVIDIA-SMI 550.54.15              Driver Version: 550.54.15      CUDA Version: 12.4     |\n",
            "|-----------------------------------------+------------------------+----------------------+\n",
            "| GPU  Name                 Persistence-M | Bus-Id          Disp.A | Volatile Uncorr. ECC |\n",
            "| Fan  Temp   Perf          Pwr:Usage/Cap |           Memory-Usage | GPU-Util  Compute M. |\n",
            "|                                         |                        |               MIG M. |\n",
            "|=========================================+========================+======================|\n",
            "|   0  Tesla T4                       Off |   00000000:00:04.0 Off |                    0 |\n",
            "| N/A   36C    P8             11W /   70W |       0MiB /  15360MiB |      0%      Default |\n",
            "|                                         |                        |                  N/A |\n",
            "+-----------------------------------------+------------------------+----------------------+\n",
            "                                                                                         \n",
            "+-----------------------------------------------------------------------------------------+\n",
            "| Processes:                                                                              |\n",
            "|  GPU   GI   CI        PID   Type   Process name                              GPU Memory |\n",
            "|        ID   ID                                                               Usage      |\n",
            "|=========================================================================================|\n",
            "|  No running processes found                                                             |\n",
            "+-----------------------------------------------------------------------------------------+\n"
          ]
        }
      ]
    },
    {
      "cell_type": "code",
      "source": [
        "import tensorflow as tf\n",
        "print(tf.__version__)   # e.g. \"2.12.0\"\n"
      ],
      "metadata": {
        "colab": {
          "base_uri": "https://localhost:8080/"
        },
        "id": "yPl_vkZU4P99",
        "outputId": "9e5de972-dc9b-4021-e3a9-829a090fc172"
      },
      "id": "yPl_vkZU4P99",
      "execution_count": 1,
      "outputs": [
        {
          "output_type": "stream",
          "name": "stdout",
          "text": [
            "2.18.0\n"
          ]
        }
      ]
    },
    {
      "cell_type": "code",
      "source": [
        "from google.colab import drive\n",
        "drive.mount('/content/drive')"
      ],
      "metadata": {
        "colab": {
          "base_uri": "https://localhost:8080/"
        },
        "id": "j_PEmvQhOB-E",
        "outputId": "bc00810e-b59d-437d-a370-db50a879e5f4"
      },
      "id": "j_PEmvQhOB-E",
      "execution_count": 3,
      "outputs": [
        {
          "output_type": "stream",
          "name": "stdout",
          "text": [
            "Mounted at /content/drive\n"
          ]
        }
      ]
    },
    {
      "metadata": {
        "ExecuteTime": {
          "end_time": "2025-07-24T15:14:03.974729Z",
          "start_time": "2025-07-24T15:14:03.969043Z"
        },
        "colab": {
          "base_uri": "https://localhost:8080/"
        },
        "id": "1d0028e0c1f156ee",
        "outputId": "ec41cd04-07ce-4eef-c5f3-b0d6be07f985"
      },
      "cell_type": "code",
      "source": [
        "import os\n",
        "from collections import Counter\n",
        "from PIL import Image\n",
        "\n",
        "BASE = \"/content/drive/MyDrive/Colab Notebooks/Tumour\"\n",
        "splits = [\"train\", \"valid\", \"test\"]\n",
        "for split in splits:\n",
        "    path = os.path.join(BASE, split)\n",
        "    counts = {\n",
        "    d: len([f for f in os.listdir(os.path.join(path,d))\n",
        "            if os.path.isfile(os.path.join(path,d,f))\n",
        "               and f.lower().endswith(('.png','.jpg','.jpeg'))])\n",
        "    for d in os.listdir(path)\n",
        "    if os.path.isdir(os.path.join(path,d))\n",
        "}\n",
        "print(f\"{split.upper():6}\", counts)\n",
        "\n",
        "\n",
        ""
      ],
      "id": "1d0028e0c1f156ee",
      "outputs": [
        {
          "output_type": "stream",
          "name": "stdout",
          "text": [
            "TEST   {'No Tumor': 49, 'glioma': 80, 'pituitary': 54, 'meningioma': 63}\n"
          ]
        }
      ],
      "execution_count": 4
    },
    {
      "cell_type": "code",
      "source": [
        "# Data Augmentation\n",
        "import tensorflow as tf\n",
        "from tensorflow.keras import layers\n",
        "\n",
        "data_augmentation = tf.keras.Sequential([\n",
        "    layers.RandomFlip(\"horizontal\"),\n",
        "    layers.RandomRotation(0.1),\n",
        "    layers.RandomZoom(0.1),\n",
        "    layers.RandomTranslation(0.1,0.1),\n",
        "])\n",
        "print(tf.__version__)"
      ],
      "metadata": {
        "colab": {
          "base_uri": "https://localhost:8080/"
        },
        "id": "ePZoHl62Tv_N",
        "outputId": "3a446c70-c3b7-4ca0-a709-a005c78abf76"
      },
      "id": "ePZoHl62Tv_N",
      "execution_count": 5,
      "outputs": [
        {
          "output_type": "stream",
          "name": "stdout",
          "text": [
            "2.18.0\n"
          ]
        }
      ]
    },
    {
      "cell_type": "code",
      "source": [
        "from tensorflow.keras.layers import Rescaling\n",
        "\n",
        "\n",
        "rescale = Rescaling(1./255)\n",
        "def make_dataset(split_dir, batch=32, augment=False):\n",
        "    ds = tf.keras.preprocessing.image_dataset_from_directory(\n",
        "        split_dir, image_size=(224, 224), batch_size=batch,\n",
        "        label_mode='categorical', shuffle=(split_dir.endswith(\"train\"))\n",
        "    )\n",
        "    ds = ds.map(lambda x,y: (rescale(x), y),\n",
        "                num_parallel_calls=tf.data.AUTOTUNE)\n",
        "    # … (apply augmentation here if requested)\n",
        "    if augment:\n",
        "        ds = ds.map(lambda x,y: (data_augmentation(x, training=True), y),\n",
        "                    num_parallel_calls=tf.data.AUTOTUNE)\n",
        "    return ds.prefetch(tf.data.AUTOTUNE)"
      ],
      "metadata": {
        "id": "9X8NG0JNTd2Z"
      },
      "id": "9X8NG0JNTd2Z",
      "execution_count": 6,
      "outputs": []
    },
    {
      "metadata": {
        "ExecuteTime": {
          "end_time": "2025-07-24T15:14:04.005467Z",
          "start_time": "2025-07-24T15:14:03.995310Z"
        },
        "id": "aa1ad017345ab986"
      },
      "cell_type": "code",
      "source": [],
      "id": "aa1ad017345ab986",
      "outputs": [],
      "execution_count": 6
    },
    {
      "metadata": {
        "ExecuteTime": {
          "end_time": "2025-07-24T15:14:04.011369Z",
          "start_time": "2025-07-24T15:14:04.008611Z"
        },
        "id": "1aab1ca7c0be17d8"
      },
      "cell_type": "code",
      "source": [
        "from tensorflow.keras import layers, models\n",
        "\n",
        "def build_custom_cnn(input_shape=(224,224,3), num_classes=4):\n",
        "    model = models.Sequential([\n",
        "        layers.Input(input_shape),\n",
        "        layers.Conv2D(32,3, activation='relu'),\n",
        "        layers.BatchNormalization(),\n",
        "        layers.MaxPool2D(),\n",
        "        layers.Conv2D(64,3, activation='relu'),\n",
        "        layers.BatchNormalization(),\n",
        "        layers.MaxPool2D(),\n",
        "        layers.Conv2D(128,3, activation='relu'),\n",
        "        layers.BatchNormalization(),\n",
        "        layers.MaxPool2D(),\n",
        "        layers.Flatten(),\n",
        "        layers.Dropout(0.5),\n",
        "        layers.Dense(128, activation='relu'),\n",
        "        layers.BatchNormalization(),\n",
        "        layers.Dropout(0.5),\n",
        "        layers.Dense(num_classes, activation='softmax')\n",
        "    ])\n",
        "    model.compile(\n",
        "        optimizer='adam',\n",
        "        loss='categorical_crossentropy',\n",
        "        metrics=['accuracy']\n",
        "    )\n",
        "    return model\n"
      ],
      "id": "1aab1ca7c0be17d8",
      "outputs": [],
      "execution_count": 7
    },
    {
      "metadata": {
        "ExecuteTime": {
          "end_time": "2025-07-24T15:16:38.397843Z",
          "start_time": "2025-07-24T15:14:04.015080Z"
        },
        "colab": {
          "base_uri": "https://localhost:8080/"
        },
        "id": "b2f583ac924338be",
        "outputId": "4c0cb887-d790-413a-8c16-b5452b5f49f3"
      },
      "cell_type": "code",
      "source": [
        "import os\n",
        "from tensorflow.keras.callbacks import EarlyStopping, ModelCheckpoint\n",
        "#from preprocessing import make_dataset\n",
        "#from model_custom import build_custom_cnn\n",
        "\n",
        "train_ds = make_dataset(os.path.join(BASE,\"train\"), batch=32, augment=True)\n",
        "val_ds   = make_dataset(os.path.join(BASE,\"valid\"), batch=32)\n",
        "\n",
        "model = build_custom_cnn()\n",
        "callbacks = [\n",
        "    EarlyStopping(patience=5, restore_best_weights=True),\n",
        "    ModelCheckpoint(\"models/custom_cnn.keras\", save_best_only=True)\n",
        "]\n",
        "history = model.fit(train_ds, validation_data=val_ds, epochs=50, callbacks=callbacks)\n"
      ],
      "id": "b2f583ac924338be",
      "outputs": [
        {
          "output_type": "stream",
          "name": "stdout",
          "text": [
            "Found 1695 files belonging to 4 classes.\n",
            "Found 502 files belonging to 4 classes.\n",
            "Epoch 1/50\n",
            "\u001b[1m53/53\u001b[0m \u001b[32m━━━━━━━━━━━━━━━━━━━━\u001b[0m\u001b[37m\u001b[0m \u001b[1m525s\u001b[0m 10s/step - accuracy: 0.5924 - loss: 1.3853 - val_accuracy: 0.2470 - val_loss: 4.3751\n",
            "Epoch 2/50\n",
            "\u001b[1m53/53\u001b[0m \u001b[32m━━━━━━━━━━━━━━━━━━━━\u001b[0m\u001b[37m\u001b[0m \u001b[1m27s\u001b[0m 475ms/step - accuracy: 0.7087 - loss: 0.8423 - val_accuracy: 0.2470 - val_loss: 9.3586\n",
            "Epoch 3/50\n",
            "\u001b[1m 3/53\u001b[0m \u001b[32m━\u001b[0m\u001b[37m━━━━━━━━━━━━━━━━━━━\u001b[0m \u001b[1m32s\u001b[0m 653ms/step - accuracy: 0.7830 - loss: 0.5846"
          ]
        }
      ],
      "execution_count": null
    },
    {
      "metadata": {
        "ExecuteTime": {
          "end_time": "2025-07-24T15:16:38.599542Z",
          "start_time": "2025-07-24T15:16:38.590203Z"
        },
        "id": "8941bc1a7f9a4a44"
      },
      "cell_type": "code",
      "source": [
        "## Model Transfer\n",
        "import tensorflow as tf\n",
        "from tensorflow.keras import layers, models\n",
        "\n",
        "def build_transfer_model(base_name='ResNet50', input_shape=(224,224,3), num_classes=4):\n",
        "    base = getattr(tf.keras.applications, base_name)(\n",
        "        include_top=False, weights='imagenet', input_shape=input_shape, pooling='avg'\n",
        "    )\n",
        "    base.trainable = False\n",
        "\n",
        "    x = layers.Input(shape=input_shape)\n",
        "    y = base(x, training=False)\n",
        "    y = layers.Dense(128, activation='relu')(y)\n",
        "    y = layers.BatchNormalization()(y)\n",
        "    y = layers.Dropout(0.5)(y)\n",
        "    output = layers.Dense(num_classes, activation='softmax')(y)\n",
        "\n",
        "    model = models.Model(x, output)\n",
        "    model.compile(\n",
        "    optimizer=\"adam\",\n",
        "    loss=\"categorical_crossentropy\",\n",
        "    metrics=[\"accuracy\"])\n",
        "\n",
        "    return model\n"
      ],
      "id": "8941bc1a7f9a4a44",
      "outputs": [],
      "execution_count": null
    },
    {
      "metadata": {
        "ExecuteTime": {
          "end_time": "2025-07-24T15:20:40.916038Z",
          "start_time": "2025-07-24T15:16:38.630740Z"
        },
        "id": "b3932ff17cd91ae",
        "outputId": "bab6cc47-054b-4411-abac-66ced055211e"
      },
      "cell_type": "code",
      "source": [
        "from tensorflow.keras.callbacks import EarlyStopping, ModelCheckpoint\n",
        "#from preprocessing import make_dataset\n",
        "#from model_transfer import build_transfer_model\n",
        "\n",
        "train_ds = make_dataset(os.path.join(BASE,\"train\"), batch=32, augment=True)\n",
        "val_ds   = make_dataset(os.path.join(BASE,\"valid\"), batch=32)\n",
        "\n",
        "model = build_transfer_model('EfficientNetB0')\n",
        "callbacks = [\n",
        "    EarlyStopping(patience=10, restore_best_weights=True),\n",
        "    ModelCheckpoint(\"models/transfer_efficientnet.keras\", save_best_only=True)\n",
        "]\n",
        "model.fit(train_ds, validation_data=val_ds, epochs=40, callbacks=callbacks)\n"
      ],
      "id": "b3932ff17cd91ae",
      "outputs": [
        {
          "name": "stdout",
          "output_type": "stream",
          "text": [
            "Found 1695 files belonging to 4 classes.\n",
            "Found 502 files belonging to 4 classes.\n",
            "Epoch 1/40\n",
            "\u001b[1m53/53\u001b[0m \u001b[32m━━━━━━━━━━━━━━━━━━━━\u001b[0m\u001b[37m\u001b[0m \u001b[1m16s\u001b[0m 237ms/step - accuracy: 0.6302 - loss: 1.1127 - val_accuracy: 0.8526 - val_loss: 0.3899\n",
            "Epoch 2/40\n",
            "\u001b[1m53/53\u001b[0m \u001b[32m━━━━━━━━━━━━━━━━━━━━\u001b[0m\u001b[37m\u001b[0m \u001b[1m10s\u001b[0m 186ms/step - accuracy: 0.8063 - loss: 0.5162 - val_accuracy: 0.8247 - val_loss: 0.4436\n",
            "Epoch 3/40\n",
            "\u001b[1m53/53\u001b[0m \u001b[32m━━━━━━━━━━━━━━━━━━━━\u001b[0m\u001b[37m\u001b[0m \u001b[1m10s\u001b[0m 186ms/step - accuracy: 0.8621 - loss: 0.3595 - val_accuracy: 0.8765 - val_loss: 0.3639\n",
            "Epoch 4/40\n",
            "\u001b[1m53/53\u001b[0m \u001b[32m━━━━━━━━━━━━━━━━━━━━\u001b[0m\u001b[37m\u001b[0m \u001b[1m10s\u001b[0m 189ms/step - accuracy: 0.8846 - loss: 0.3308 - val_accuracy: 0.8944 - val_loss: 0.2867\n",
            "Epoch 5/40\n",
            "\u001b[1m53/53\u001b[0m \u001b[32m━━━━━━━━━━━━━━━━━━━━\u001b[0m\u001b[37m\u001b[0m \u001b[1m10s\u001b[0m 185ms/step - accuracy: 0.8914 - loss: 0.2945 - val_accuracy: 0.9024 - val_loss: 0.2898\n",
            "Epoch 6/40\n",
            "\u001b[1m53/53\u001b[0m \u001b[32m━━━━━━━━━━━━━━━━━━━━\u001b[0m\u001b[37m\u001b[0m \u001b[1m10s\u001b[0m 186ms/step - accuracy: 0.9118 - loss: 0.2672 - val_accuracy: 0.9084 - val_loss: 0.2609\n",
            "Epoch 7/40\n",
            "\u001b[1m53/53\u001b[0m \u001b[32m━━━━━━━━━━━━━━━━━━━━\u001b[0m\u001b[37m\u001b[0m \u001b[1m10s\u001b[0m 186ms/step - accuracy: 0.9046 - loss: 0.2624 - val_accuracy: 0.9104 - val_loss: 0.2319\n",
            "Epoch 8/40\n",
            "\u001b[1m53/53\u001b[0m \u001b[32m━━━━━━━━━━━━━━━━━━━━\u001b[0m\u001b[37m\u001b[0m \u001b[1m10s\u001b[0m 184ms/step - accuracy: 0.9193 - loss: 0.2250 - val_accuracy: 0.9084 - val_loss: 0.2693\n",
            "Epoch 9/40\n",
            "\u001b[1m53/53\u001b[0m \u001b[32m━━━━━━━━━━━━━━━━━━━━\u001b[0m\u001b[37m\u001b[0m \u001b[1m10s\u001b[0m 180ms/step - accuracy: 0.9304 - loss: 0.1925 - val_accuracy: 0.9064 - val_loss: 0.2688\n",
            "Epoch 10/40\n",
            "\u001b[1m53/53\u001b[0m \u001b[32m━━━━━━━━━━━━━━━━━━━━\u001b[0m\u001b[37m\u001b[0m \u001b[1m10s\u001b[0m 180ms/step - accuracy: 0.9198 - loss: 0.2093 - val_accuracy: 0.9044 - val_loss: 0.2645\n",
            "Epoch 11/40\n",
            "\u001b[1m53/53\u001b[0m \u001b[32m━━━━━━━━━━━━━━━━━━━━\u001b[0m\u001b[37m\u001b[0m \u001b[1m10s\u001b[0m 180ms/step - accuracy: 0.9355 - loss: 0.1967 - val_accuracy: 0.9104 - val_loss: 0.2584\n",
            "Epoch 12/40\n",
            "\u001b[1m53/53\u001b[0m \u001b[32m━━━━━━━━━━━━━━━━━━━━\u001b[0m\u001b[37m\u001b[0m \u001b[1m10s\u001b[0m 182ms/step - accuracy: 0.9443 - loss: 0.1469 - val_accuracy: 0.9104 - val_loss: 0.2726\n",
            "Epoch 13/40\n",
            "\u001b[1m53/53\u001b[0m \u001b[32m━━━━━━━━━━━━━━━━━━━━\u001b[0m\u001b[37m\u001b[0m \u001b[1m10s\u001b[0m 185ms/step - accuracy: 0.9483 - loss: 0.1481 - val_accuracy: 0.9223 - val_loss: 0.2382\n",
            "Epoch 14/40\n",
            "\u001b[1m53/53\u001b[0m \u001b[32m━━━━━━━━━━━━━━━━━━━━\u001b[0m\u001b[37m\u001b[0m \u001b[1m10s\u001b[0m 188ms/step - accuracy: 0.9437 - loss: 0.1599 - val_accuracy: 0.9203 - val_loss: 0.2246\n",
            "Epoch 15/40\n",
            "\u001b[1m53/53\u001b[0m \u001b[32m━━━━━━━━━━━━━━━━━━━━\u001b[0m\u001b[37m\u001b[0m \u001b[1m10s\u001b[0m 186ms/step - accuracy: 0.9471 - loss: 0.1466 - val_accuracy: 0.9223 - val_loss: 0.2469\n",
            "Epoch 16/40\n",
            "\u001b[1m53/53\u001b[0m \u001b[32m━━━━━━━━━━━━━━━━━━━━\u001b[0m\u001b[37m\u001b[0m \u001b[1m10s\u001b[0m 181ms/step - accuracy: 0.9512 - loss: 0.1434 - val_accuracy: 0.9124 - val_loss: 0.2516\n",
            "Epoch 17/40\n",
            "\u001b[1m53/53\u001b[0m \u001b[32m━━━━━━━━━━━━━━━━━━━━\u001b[0m\u001b[37m\u001b[0m \u001b[1m10s\u001b[0m 181ms/step - accuracy: 0.9514 - loss: 0.1441 - val_accuracy: 0.9283 - val_loss: 0.2316\n",
            "Epoch 18/40\n",
            "\u001b[1m53/53\u001b[0m \u001b[32m━━━━━━━━━━━━━━━━━━━━\u001b[0m\u001b[37m\u001b[0m \u001b[1m10s\u001b[0m 181ms/step - accuracy: 0.9442 - loss: 0.1509 - val_accuracy: 0.9064 - val_loss: 0.2757\n",
            "Epoch 19/40\n",
            "\u001b[1m53/53\u001b[0m \u001b[32m━━━━━━━━━━━━━━━━━━━━\u001b[0m\u001b[37m\u001b[0m \u001b[1m10s\u001b[0m 182ms/step - accuracy: 0.9421 - loss: 0.1622 - val_accuracy: 0.9203 - val_loss: 0.2362\n",
            "Epoch 20/40\n",
            "\u001b[1m53/53\u001b[0m \u001b[32m━━━━━━━━━━━━━━━━━━━━\u001b[0m\u001b[37m\u001b[0m \u001b[1m10s\u001b[0m 187ms/step - accuracy: 0.9622 - loss: 0.1164 - val_accuracy: 0.9263 - val_loss: 0.2358\n",
            "Epoch 21/40\n",
            "\u001b[1m53/53\u001b[0m \u001b[32m━━━━━━━━━━━━━━━━━━━━\u001b[0m\u001b[37m\u001b[0m \u001b[1m10s\u001b[0m 194ms/step - accuracy: 0.9532 - loss: 0.1240 - val_accuracy: 0.9223 - val_loss: 0.2432\n",
            "Epoch 22/40\n",
            "\u001b[1m53/53\u001b[0m \u001b[32m━━━━━━━━━━━━━━━━━━━━\u001b[0m\u001b[37m\u001b[0m \u001b[1m10s\u001b[0m 189ms/step - accuracy: 0.9588 - loss: 0.1214 - val_accuracy: 0.9223 - val_loss: 0.2549\n",
            "Epoch 23/40\n",
            "\u001b[1m53/53\u001b[0m \u001b[32m━━━━━━━━━━━━━━━━━━━━\u001b[0m\u001b[37m\u001b[0m \u001b[1m10s\u001b[0m 191ms/step - accuracy: 0.9574 - loss: 0.1111 - val_accuracy: 0.9183 - val_loss: 0.2401\n",
            "Epoch 24/40\n",
            "\u001b[1m53/53\u001b[0m \u001b[32m━━━━━━━━━━━━━━━━━━━━\u001b[0m\u001b[37m\u001b[0m \u001b[1m10s\u001b[0m 193ms/step - accuracy: 0.9636 - loss: 0.1075 - val_accuracy: 0.9183 - val_loss: 0.2605\n"
          ]
        },
        {
          "data": {
            "text/plain": [
              "<keras.src.callbacks.history.History at 0x3ee5d5dc0>"
            ]
          },
          "execution_count": 14,
          "metadata": {},
          "output_type": "execute_result"
        }
      ],
      "execution_count": null
    },
    {
      "metadata": {
        "ExecuteTime": {
          "end_time": "2025-07-24T15:20:40.944711Z",
          "start_time": "2025-07-24T15:20:40.931235Z"
        },
        "id": "59809d7ff414bd6e",
        "outputId": "efd92548-a3fa-4046-ecb7-00d0bf23cd86"
      },
      "cell_type": "code",
      "source": [
        "model.summary()"
      ],
      "id": "59809d7ff414bd6e",
      "outputs": [
        {
          "data": {
            "text/plain": [
              "\u001b[1mModel: \"functional_1\"\u001b[0m\n"
            ],
            "text/html": [
              "<pre style=\"white-space:pre;overflow-x:auto;line-height:normal;font-family:Menlo,'DejaVu Sans Mono',consolas,'Courier New',monospace\"><span style=\"font-weight: bold\">Model: \"functional_1\"</span>\n",
              "</pre>\n"
            ]
          },
          "metadata": {},
          "output_type": "display_data"
        },
        {
          "data": {
            "text/plain": [
              "┏━━━━━━━━━━━━━━━━━━━━━━━━━━━━━━━━━┳━━━━━━━━━━━━━━━━━━━━━━━━┳━━━━━━━━━━━━━━━┓\n",
              "┃\u001b[1m \u001b[0m\u001b[1mLayer (type)                   \u001b[0m\u001b[1m \u001b[0m┃\u001b[1m \u001b[0m\u001b[1mOutput Shape          \u001b[0m\u001b[1m \u001b[0m┃\u001b[1m \u001b[0m\u001b[1m      Param #\u001b[0m\u001b[1m \u001b[0m┃\n",
              "┡━━━━━━━━━━━━━━━━━━━━━━━━━━━━━━━━━╇━━━━━━━━━━━━━━━━━━━━━━━━╇━━━━━━━━━━━━━━━┩\n",
              "│ input_layer_2 (\u001b[38;5;33mInputLayer\u001b[0m)      │ (\u001b[38;5;45mNone\u001b[0m, \u001b[38;5;34m224\u001b[0m, \u001b[38;5;34m224\u001b[0m, \u001b[38;5;34m3\u001b[0m)    │             \u001b[38;5;34m0\u001b[0m │\n",
              "├─────────────────────────────────┼────────────────────────┼───────────────┤\n",
              "│ efficientnetb0 (\u001b[38;5;33mFunctional\u001b[0m)     │ (\u001b[38;5;45mNone\u001b[0m, \u001b[38;5;34m1280\u001b[0m)           │     \u001b[38;5;34m4,049,571\u001b[0m │\n",
              "├─────────────────────────────────┼────────────────────────┼───────────────┤\n",
              "│ dense_2 (\u001b[38;5;33mDense\u001b[0m)                 │ (\u001b[38;5;45mNone\u001b[0m, \u001b[38;5;34m128\u001b[0m)            │       \u001b[38;5;34m163,968\u001b[0m │\n",
              "├─────────────────────────────────┼────────────────────────┼───────────────┤\n",
              "│ batch_normalization_4           │ (\u001b[38;5;45mNone\u001b[0m, \u001b[38;5;34m128\u001b[0m)            │           \u001b[38;5;34m512\u001b[0m │\n",
              "│ (\u001b[38;5;33mBatchNormalization\u001b[0m)            │                        │               │\n",
              "├─────────────────────────────────┼────────────────────────┼───────────────┤\n",
              "│ dropout_2 (\u001b[38;5;33mDropout\u001b[0m)             │ (\u001b[38;5;45mNone\u001b[0m, \u001b[38;5;34m128\u001b[0m)            │             \u001b[38;5;34m0\u001b[0m │\n",
              "├─────────────────────────────────┼────────────────────────┼───────────────┤\n",
              "│ dense_3 (\u001b[38;5;33mDense\u001b[0m)                 │ (\u001b[38;5;45mNone\u001b[0m, \u001b[38;5;34m4\u001b[0m)              │           \u001b[38;5;34m516\u001b[0m │\n",
              "└─────────────────────────────────┴────────────────────────┴───────────────┘\n"
            ],
            "text/html": [
              "<pre style=\"white-space:pre;overflow-x:auto;line-height:normal;font-family:Menlo,'DejaVu Sans Mono',consolas,'Courier New',monospace\">┏━━━━━━━━━━━━━━━━━━━━━━━━━━━━━━━━━┳━━━━━━━━━━━━━━━━━━━━━━━━┳━━━━━━━━━━━━━━━┓\n",
              "┃<span style=\"font-weight: bold\"> Layer (type)                    </span>┃<span style=\"font-weight: bold\"> Output Shape           </span>┃<span style=\"font-weight: bold\">       Param # </span>┃\n",
              "┡━━━━━━━━━━━━━━━━━━━━━━━━━━━━━━━━━╇━━━━━━━━━━━━━━━━━━━━━━━━╇━━━━━━━━━━━━━━━┩\n",
              "│ input_layer_2 (<span style=\"color: #0087ff; text-decoration-color: #0087ff\">InputLayer</span>)      │ (<span style=\"color: #00d7ff; text-decoration-color: #00d7ff\">None</span>, <span style=\"color: #00af00; text-decoration-color: #00af00\">224</span>, <span style=\"color: #00af00; text-decoration-color: #00af00\">224</span>, <span style=\"color: #00af00; text-decoration-color: #00af00\">3</span>)    │             <span style=\"color: #00af00; text-decoration-color: #00af00\">0</span> │\n",
              "├─────────────────────────────────┼────────────────────────┼───────────────┤\n",
              "│ efficientnetb0 (<span style=\"color: #0087ff; text-decoration-color: #0087ff\">Functional</span>)     │ (<span style=\"color: #00d7ff; text-decoration-color: #00d7ff\">None</span>, <span style=\"color: #00af00; text-decoration-color: #00af00\">1280</span>)           │     <span style=\"color: #00af00; text-decoration-color: #00af00\">4,049,571</span> │\n",
              "├─────────────────────────────────┼────────────────────────┼───────────────┤\n",
              "│ dense_2 (<span style=\"color: #0087ff; text-decoration-color: #0087ff\">Dense</span>)                 │ (<span style=\"color: #00d7ff; text-decoration-color: #00d7ff\">None</span>, <span style=\"color: #00af00; text-decoration-color: #00af00\">128</span>)            │       <span style=\"color: #00af00; text-decoration-color: #00af00\">163,968</span> │\n",
              "├─────────────────────────────────┼────────────────────────┼───────────────┤\n",
              "│ batch_normalization_4           │ (<span style=\"color: #00d7ff; text-decoration-color: #00d7ff\">None</span>, <span style=\"color: #00af00; text-decoration-color: #00af00\">128</span>)            │           <span style=\"color: #00af00; text-decoration-color: #00af00\">512</span> │\n",
              "│ (<span style=\"color: #0087ff; text-decoration-color: #0087ff\">BatchNormalization</span>)            │                        │               │\n",
              "├─────────────────────────────────┼────────────────────────┼───────────────┤\n",
              "│ dropout_2 (<span style=\"color: #0087ff; text-decoration-color: #0087ff\">Dropout</span>)             │ (<span style=\"color: #00d7ff; text-decoration-color: #00d7ff\">None</span>, <span style=\"color: #00af00; text-decoration-color: #00af00\">128</span>)            │             <span style=\"color: #00af00; text-decoration-color: #00af00\">0</span> │\n",
              "├─────────────────────────────────┼────────────────────────┼───────────────┤\n",
              "│ dense_3 (<span style=\"color: #0087ff; text-decoration-color: #0087ff\">Dense</span>)                 │ (<span style=\"color: #00d7ff; text-decoration-color: #00d7ff\">None</span>, <span style=\"color: #00af00; text-decoration-color: #00af00\">4</span>)              │           <span style=\"color: #00af00; text-decoration-color: #00af00\">516</span> │\n",
              "└─────────────────────────────────┴────────────────────────┴───────────────┘\n",
              "</pre>\n"
            ]
          },
          "metadata": {},
          "output_type": "display_data"
        },
        {
          "data": {
            "text/plain": [
              "\u001b[1m Total params: \u001b[0m\u001b[38;5;34m4,544,049\u001b[0m (17.33 MB)\n"
            ],
            "text/html": [
              "<pre style=\"white-space:pre;overflow-x:auto;line-height:normal;font-family:Menlo,'DejaVu Sans Mono',consolas,'Courier New',monospace\"><span style=\"font-weight: bold\"> Total params: </span><span style=\"color: #00af00; text-decoration-color: #00af00\">4,544,049</span> (17.33 MB)\n",
              "</pre>\n"
            ]
          },
          "metadata": {},
          "output_type": "display_data"
        },
        {
          "data": {
            "text/plain": [
              "\u001b[1m Trainable params: \u001b[0m\u001b[38;5;34m164,740\u001b[0m (643.52 KB)\n"
            ],
            "text/html": [
              "<pre style=\"white-space:pre;overflow-x:auto;line-height:normal;font-family:Menlo,'DejaVu Sans Mono',consolas,'Courier New',monospace\"><span style=\"font-weight: bold\"> Trainable params: </span><span style=\"color: #00af00; text-decoration-color: #00af00\">164,740</span> (643.52 KB)\n",
              "</pre>\n"
            ]
          },
          "metadata": {},
          "output_type": "display_data"
        },
        {
          "data": {
            "text/plain": [
              "\u001b[1m Non-trainable params: \u001b[0m\u001b[38;5;34m4,049,827\u001b[0m (15.45 MB)\n"
            ],
            "text/html": [
              "<pre style=\"white-space:pre;overflow-x:auto;line-height:normal;font-family:Menlo,'DejaVu Sans Mono',consolas,'Courier New',monospace\"><span style=\"font-weight: bold\"> Non-trainable params: </span><span style=\"color: #00af00; text-decoration-color: #00af00\">4,049,827</span> (15.45 MB)\n",
              "</pre>\n"
            ]
          },
          "metadata": {},
          "output_type": "display_data"
        },
        {
          "data": {
            "text/plain": [
              "\u001b[1m Optimizer params: \u001b[0m\u001b[38;5;34m329,482\u001b[0m (1.26 MB)\n"
            ],
            "text/html": [
              "<pre style=\"white-space:pre;overflow-x:auto;line-height:normal;font-family:Menlo,'DejaVu Sans Mono',consolas,'Courier New',monospace\"><span style=\"font-weight: bold\"> Optimizer params: </span><span style=\"color: #00af00; text-decoration-color: #00af00\">329,482</span> (1.26 MB)\n",
              "</pre>\n"
            ]
          },
          "metadata": {},
          "output_type": "display_data"
        }
      ],
      "execution_count": null
    },
    {
      "metadata": {
        "ExecuteTime": {
          "end_time": "2025-07-24T15:20:40.994906Z",
          "start_time": "2025-07-24T15:20:40.992162Z"
        },
        "id": "3cacfceefc822ba9"
      },
      "cell_type": "code",
      "source": [
        "#Training and monitoring\n",
        "import matplotlib.pyplot as plt\n",
        "\n",
        "def plot_history(hist, name):\n",
        "    plt.plot(hist.history['loss'], label='train_loss')\n",
        "    plt.plot(hist.history['val_loss'], label='val_loss')\n",
        "    plt.title(name)\n",
        "    plt.legend()\n",
        "    plt.show()\n"
      ],
      "id": "3cacfceefc822ba9",
      "outputs": [],
      "execution_count": null
    },
    {
      "metadata": {
        "ExecuteTime": {
          "end_time": "2025-07-24T15:20:46.124543Z",
          "start_time": "2025-07-24T15:20:40.999502Z"
        },
        "id": "7dd742cbdf4ffcf6",
        "outputId": "190a59ed-aa0f-498b-cc06-a097f8d3d8fa"
      },
      "cell_type": "code",
      "source": [
        "#Evaluation\n",
        "import numpy as np\n",
        "from sklearn.metrics import classification_report, confusion_matrix\n",
        "from tensorflow.keras.models import load_model\n",
        "#from preprocessing import make_dataset\n",
        "\n",
        "test_ds = make_dataset(os.path.join(BASE,\"test\"), batch=32, augment=False)\n",
        "model = load_model(\"models/transfer_efficientnet.keras\")\n",
        "y_true = np.concatenate([y for _,y in test_ds], axis=0)\n",
        "y_pred = model.predict(test_ds)\n",
        "y_pred_labels = np.argmax(y_pred, axis=1)\n",
        "y_true_labels = np.argmax(y_true, axis=1)\n",
        "\n",
        "print(classification_report(y_true_labels, y_pred_labels, target_names=test_ds.class_names))\n",
        "print(confusion_matrix(y_true_labels, y_pred_labels))\n"
      ],
      "id": "7dd742cbdf4ffcf6",
      "outputs": [
        {
          "name": "stdout",
          "output_type": "stream",
          "text": [
            "Found 246 files belonging to 4 classes.\n"
          ]
        },
        {
          "name": "stderr",
          "output_type": "stream",
          "text": [
            "2025-07-24 20:50:42.415947: W tensorflow/core/framework/local_rendezvous.cc:404] Local rendezvous is aborting with status: OUT_OF_RANGE: End of sequence\n"
          ]
        },
        {
          "name": "stdout",
          "output_type": "stream",
          "text": [
            "\u001b[1m8/8\u001b[0m \u001b[32m━━━━━━━━━━━━━━━━━━━━\u001b[0m\u001b[37m\u001b[0m \u001b[1m4s\u001b[0m 323ms/step\n",
            "              precision    recall  f1-score   support\n",
            "\n",
            "    No Tumor       0.15      0.14      0.14        49\n",
            "      glioma       0.35      0.39      0.37        80\n",
            "  meningioma       0.24      0.21      0.22        63\n",
            "   pituitary       0.24      0.24      0.24        54\n",
            "\n",
            "    accuracy                           0.26       246\n",
            "   macro avg       0.24      0.24      0.24       246\n",
            "weighted avg       0.26      0.26      0.26       246\n",
            "\n",
            "[[ 7 18 13 11]\n",
            " [10 31 16 23]\n",
            " [20 22 13  8]\n",
            " [11 17 13 13]]\n"
          ]
        }
      ],
      "execution_count": null
    },
    {
      "metadata": {
        "ExecuteTime": {
          "end_time": "2025-07-24T15:20:47.259362Z",
          "start_time": "2025-07-24T15:20:46.132410Z"
        },
        "id": "715614591467e6b0",
        "outputId": "eda830dd-9bc0-4e9c-ed56-03810ec76ff2"
      },
      "cell_type": "code",
      "source": [
        "#Evaluation by Custom CNN\n",
        "import numpy as np\n",
        "from sklearn.metrics import classification_report, confusion_matrix\n",
        "from tensorflow.keras.models import load_model\n",
        "#from preprocessing import make_dataset\n",
        "\n",
        "test_ds = make_dataset(os.path.join(BASE,\"test\"), batch=32, augment=False)\n",
        "model = load_model(\"models/custom_cnn.keras\")\n",
        "y_true = np.concatenate([y for _,y in test_ds], axis=0)\n",
        "y_pred = model.predict(test_ds)\n",
        "y_pred_labels = np.argmax(y_pred, axis=1)\n",
        "y_true_labels = np.argmax(y_true, axis=1)\n",
        "\n",
        "print(classification_report(y_true_labels, y_pred_labels, target_names=test_ds.class_names))\n",
        "print(confusion_matrix(y_true_labels, y_pred_labels))\n"
      ],
      "id": "715614591467e6b0",
      "outputs": [
        {
          "name": "stdout",
          "output_type": "stream",
          "text": [
            "Found 246 files belonging to 4 classes.\n",
            "\u001b[1m1/8\u001b[0m \u001b[32m━━\u001b[0m\u001b[37m━━━━━━━━━━━━━━━━━━\u001b[0m \u001b[1m1s\u001b[0m 158ms/step"
          ]
        },
        {
          "name": "stderr",
          "output_type": "stream",
          "text": [
            "2025-07-24 20:50:46.663090: W tensorflow/core/framework/local_rendezvous.cc:404] Local rendezvous is aborting with status: OUT_OF_RANGE: End of sequence\n"
          ]
        },
        {
          "name": "stdout",
          "output_type": "stream",
          "text": [
            "\u001b[1m8/8\u001b[0m \u001b[32m━━━━━━━━━━━━━━━━━━━━\u001b[0m\u001b[37m\u001b[0m \u001b[1m1s\u001b[0m 61ms/step\n",
            "              precision    recall  f1-score   support\n",
            "\n",
            "    No Tumor       0.15      0.14      0.14        49\n",
            "      glioma       0.37      0.38      0.37        80\n",
            "  meningioma       0.27      0.27      0.27        63\n",
            "   pituitary       0.33      0.33      0.33        54\n",
            "\n",
            "    accuracy                           0.29       246\n",
            "   macro avg       0.28      0.28      0.28       246\n",
            "weighted avg       0.29      0.29      0.29       246\n",
            "\n",
            "[[ 7 19 12 11]\n",
            " [15 30 19 16]\n",
            " [17 19 17 10]\n",
            " [ 9 13 14 18]]\n"
          ]
        }
      ],
      "execution_count": null
    },
    {
      "metadata": {
        "ExecuteTime": {
          "end_time": "2025-07-24T15:23:04.617166Z",
          "start_time": "2025-07-24T15:23:03.854724Z"
        },
        "id": "227b00738b6569b1",
        "outputId": "3d6a4a9e-c4e2-4833-e420-7d4f8508ab95"
      },
      "cell_type": "code",
      "source": [
        "import streamlit as st\n",
        "import numpy as np\n",
        "from PIL import Image\n",
        "from tensorflow.keras.models import load_model\n",
        "\n",
        "CLASS_NAMES = [\"glioma\",\"meningioma\",\"no_tumor\",\"pituitary\"]\n",
        "model = load_model(\"models/transfer_efficientnet.keras\")\n",
        "\n",
        "st.title(\"🧠 Brain Tumor MRI Classifier\")\n",
        "uploaded = st.file_uploader(\"Upload an MRI image\", type=[\"png\",\"jpg\",\"jpeg\"])\n",
        "if uploaded:\n",
        "    img = Image.open(uploaded).convert(\"RGB\").resize((224,224))\n",
        "    x = np.array(img)/255.0\n",
        "    preds = model.predict(x[np.newaxis,...])[0]\n",
        "    idx = np.argmax(preds)\n",
        "    st.write(f\"**Prediction:** {CLASS_NAMES[idx]} ({preds[idx]*100:.1f}% confidence)\")\n",
        "    st.bar_chart(preds, use_container_width=True)\n",
        "\n"
      ],
      "id": "227b00738b6569b1",
      "outputs": [
        {
          "name": "stderr",
          "output_type": "stream",
          "text": [
            "2025-07-24 20:53:04.571 WARNING streamlit.runtime.scriptrunner_utils.script_run_context: Thread 'MainThread': missing ScriptRunContext! This warning can be ignored when running in bare mode.\n",
            "2025-07-24 20:53:04.614 \n",
            "  \u001b[33m\u001b[1mWarning:\u001b[0m to view this Streamlit app on a browser, run it with the following\n",
            "  command:\n",
            "\n",
            "    streamlit run /Users/dhruvsharma/PyCharmMiscProject/.venv/lib/python3.9/site-packages/ipykernel_launcher.py [ARGUMENTS]\n",
            "2025-07-24 20:53:04.614 Thread 'MainThread': missing ScriptRunContext! This warning can be ignored when running in bare mode.\n",
            "2025-07-24 20:53:04.614 Thread 'MainThread': missing ScriptRunContext! This warning can be ignored when running in bare mode.\n",
            "2025-07-24 20:53:04.615 Thread 'MainThread': missing ScriptRunContext! This warning can be ignored when running in bare mode.\n",
            "2025-07-24 20:53:04.615 Thread 'MainThread': missing ScriptRunContext! This warning can be ignored when running in bare mode.\n",
            "2025-07-24 20:53:04.615 Thread 'MainThread': missing ScriptRunContext! This warning can be ignored when running in bare mode.\n",
            "2025-07-24 20:53:04.615 Thread 'MainThread': missing ScriptRunContext! This warning can be ignored when running in bare mode.\n",
            "2025-07-24 20:53:04.615 Thread 'MainThread': missing ScriptRunContext! This warning can be ignored when running in bare mode.\n",
            "2025-07-24 20:53:04.616 Thread 'MainThread': missing ScriptRunContext! This warning can be ignored when running in bare mode.\n"
          ]
        }
      ],
      "execution_count": null
    },
    {
      "metadata": {
        "ExecuteTime": {
          "end_time": "2025-07-24T15:24:55.055877Z",
          "start_time": "2025-07-24T15:24:55.050345Z"
        },
        "id": "33c5f8a5de3d969",
        "outputId": "1e8c9525-c7e2-4cf5-b681-192e67c449a9"
      },
      "cell_type": "code",
      "source": [
        "streamlit run /Users/dhruvsharma/PyCharmMiscProject/.venv/lib/python3.9/site-packages/ipykernel_launcher.py"
      ],
      "id": "33c5f8a5de3d969",
      "outputs": [
        {
          "ename": "SyntaxError",
          "evalue": "invalid syntax (2903271827.py, line 1)",
          "output_type": "error",
          "traceback": [
            "\u001b[0;36m  Cell \u001b[0;32mIn[22], line 1\u001b[0;36m\u001b[0m\n\u001b[0;31m    streamlit run /Users/dhruvsharma/PyCharmMiscProject/.venv/lib/python3.9/site-packages/ipykernel_launcher.py\u001b[0m\n\u001b[0m              ^\u001b[0m\n\u001b[0;31mSyntaxError\u001b[0m\u001b[0;31m:\u001b[0m invalid syntax\n"
          ]
        }
      ],
      "execution_count": null
    },
    {
      "metadata": {
        "id": "4758e75e6b3c5373"
      },
      "cell_type": "code",
      "outputs": [],
      "execution_count": null,
      "source": [],
      "id": "4758e75e6b3c5373"
    }
  ],
  "metadata": {
    "kernelspec": {
      "display_name": "Python 3",
      "name": "python3"
    },
    "language_info": {
      "codemirror_mode": {
        "name": "ipython",
        "version": 2
      },
      "file_extension": ".py",
      "mimetype": "text/x-python",
      "name": "python",
      "nbconvert_exporter": "python",
      "pygments_lexer": "ipython2",
      "version": "2.7.6"
    },
    "colab": {
      "provenance": [],
      "gpuType": "T4",
      "include_colab_link": true
    },
    "accelerator": "GPU"
  },
  "nbformat": 4,
  "nbformat_minor": 5
}